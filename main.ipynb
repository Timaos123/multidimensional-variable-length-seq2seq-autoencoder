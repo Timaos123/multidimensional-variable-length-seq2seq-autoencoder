{
 "cells": [
  {
   "cell_type": "code",
   "execution_count": 1,
   "metadata": {},
   "outputs": [],
   "source": [
    "import numpy as np\n",
    "from matplotlib import pyplot as plt\n",
    "\n",
    "import tensorflow as tf\n",
    "tf.logging.set_verbosity(tf.logging.ERROR)\n",
    "\n",
    "from models import NDS2SAEFactory\n"
   ]
  },
  {
   "cell_type": "code",
   "execution_count": 2,
   "metadata": {},
   "outputs": [],
   "source": [
    "max_seq_len = 40\n",
    "min_seq_len = 20\n",
    "\n",
    "n_inputs = 2\n",
    "n_neurons = 100\n",
    "n_outputs = 1\n",
    "\n",
    "len_x = 1000\n",
    "x = np.linspace(0, 150, len_x)\n",
    "total_start_points = len_x - max_seq_len\n",
    "\n",
    "pad_token = 0\n",
    "\n",
    "def generate_samples(time):\n",
    "    x1 = 2 * np.sin(time)\n",
    "    x2 = 2 * np.cos(time)\n",
    "    return x1, x2\n",
    "\n",
    "\n",
    "def generate_train_samples(batch_size=10):\n",
    "    start_time_idx = np.random.choice(range(total_start_points), batch_size)\n",
    "    sequence_lens = np.random.choice(range(min_seq_len, max_seq_len + 1), batch_size).astype(np.int32)\n",
    "\n",
    "    time_axis = [x[t:(t + seq_len)] for t, seq_len in zip(start_time_idx, sequence_lens)]\n",
    "    input = []\n",
    "    output = []\n",
    "    for t in time_axis:\n",
    "        sin, cos = generate_samples(t)\n",
    "        input.append(np.array([sin, cos]).transpose(1, 0))\n",
    "        output.append(np.array([sin + cos]).transpose(1, 0))\n",
    "\n",
    "    return input, output\n",
    "\n",
    "def adjust_length(seqs, lens):\n",
    "    for seg, len in zip(seqs, lens):\n",
    "        seg[len:] = 0"
   ]
  },
  {
   "cell_type": "code",
   "execution_count": 3,
   "metadata": {},
   "outputs": [],
   "source": [
    "factory = NDS2SAEFactory()\n",
    "factory.input_dim = n_inputs\n",
    "factory.output_dim = n_outputs\n",
    "factory.layer_sizes = [50, 30]\n",
    "encoder = factory.build('toy.zip')\n",
    "\n",
    "# If toy.zip exists, the encoder will continue the training\n",
    "# Otherwise it'll train a new model and save to toy.zip every {display_step}\n",
    "encoder.train(generate_train_samples, generate_train_samples, n_iterations=3000, batch_size=100, display_step=100)"
   ]
  },
  {
   "cell_type": "code",
   "execution_count": 4,
   "metadata": {},
   "outputs": [
    {
     "data": {
      "image/png": "[encoded data removed]",
      "text/plain": [
       "<Figure size 432x288 with 1 Axes>"
      ]
     },
     "metadata": {
      "needs_background": "light"
     },
     "output_type": "display_data"
    }
   ],
   "source": [
    "def show_test():\n",
    "    test_seq, test_res = generate_train_samples(batch_size=50)\n",
    "    predicted = encoder.predict(test_seq)\n",
    "\n",
    "    seq_len = len(test_seq[0])\n",
    "    pre_len = len(predicted[0])\n",
    "\n",
    "    # adjust_length(predicted, test_seq_len)\n",
    "\n",
    "    plt.title(\"Input sequence, predicted and true output sequences\")\n",
    "    i = plt.plot(range(seq_len), test_seq[0], 'o', label='true input sequence')\n",
    "    p = plt.plot(range(seq_len, seq_len + pre_len), predicted[0], 'ro', label='predicted outputs')\n",
    "    t = plt.plot(range(seq_len, seq_len + seq_len), test_res[0], 'co', alpha=0.6, label='true outputs')\n",
    "    plt.legend(handles=[i[0], p[0], t[0]], loc='upper left')\n",
    "    plt.show()\n",
    "\n",
    "# Run this to use the trained autoencoder to encode and decode a randomly generated sequence\n",
    "# And display them\n",
    "show_test()"
   ]
  },
  {
   "cell_type": "code",
   "execution_count": 5,
   "metadata": {},
   "outputs": [
    {
     "name": "stdout",
     "output_type": "stream",
     "text": [
      "[0.00000000e+00 0.00000000e+00 0.00000000e+00 0.00000000e+00\n",
      " 0.00000000e+00 0.00000000e+00 0.00000000e+00 0.00000000e+00\n",
      " 0.00000000e+00 7.66774610e-05 0.00000000e+00 2.33840084e+00\n",
      " 0.00000000e+00 7.93216976e-33 0.00000000e+00 0.00000000e+00\n",
      " 6.54585600e-01 1.81783092e+00 1.01573000e-36 0.00000000e+00\n",
      " 0.00000000e+00 9.05538845e+00 0.00000000e+00 5.62529743e-01\n",
      " 0.00000000e+00 0.00000000e+00 0.00000000e+00 0.00000000e+00\n",
      " 0.00000000e+00 0.00000000e+00 0.00000000e+00 1.11060806e-01\n",
      " 1.06096186e-01 2.91444004e-01 1.57644391e+00 5.69520354e-01\n",
      " 4.42318404e-12 4.52767641e-12 8.50020206e-06 4.06485379e-09\n",
      " 2.14240760e-01 1.39528885e-02 1.39240883e-02 0.00000000e+00\n",
      " 0.00000000e+00 0.00000000e+00 5.85810095e-02 1.01585472e+00\n",
      " 0.00000000e+00 7.10201040e-02 1.15083995e-12 6.76961914e-02\n",
      " 0.00000000e+00 2.81712913e-13 4.39558285e-21 2.91763786e-02\n",
      " 0.00000000e+00 3.23557183e-02 5.22730798e-02 1.80801116e-02\n",
      " 2.49322295e-01 7.95411303e-21 6.86369958e-06 0.00000000e+00\n",
      " 8.83600587e-05 4.68400908e+00 1.54113853e-02 8.27091187e-02\n",
      " 0.00000000e+00 2.33979225e+00 1.62814831e-05 2.01295056e-28\n",
      " 1.02577545e-01 4.68180515e-05 0.00000000e+00 6.89401031e-01\n",
      " 0.00000000e+00 1.76876438e+00 3.66791897e-02 9.83751416e-01]\n",
      "Cleaned up temp folder /tmp/NDS2SAE-ccb728ed2eda4df7a1e2aff8efaf634a\n"
     ]
    }
   ],
   "source": [
    "def run_encode():\n",
    "    test_seq, test_res = generate_train_samples(batch_size=1)\n",
    "    encoded = encoder.encode(test_seq)\n",
    "    print(encoded)\n",
    "# This will print out the encoded (hidden layers) value\n",
    "run_encode()\n",
    "\n",
    "encoder.cleanup()"
   ]
  },
  {
   "cell_type": "code",
   "execution_count": null,
   "metadata": {},
   "outputs": [],
   "source": []
  }
 ],
 "metadata": {
  "kernelspec": {
   "display_name": "Python 3",
   "language": "python",
   "name": "python3"
  },
  "language_info": {
   "codemirror_mode": {
    "name": "ipython",
    "version": 3
   },
   "file_extension": ".py",
   "mimetype": "text/x-python",
   "name": "python",
   "nbconvert_exporter": "python",
   "pygments_lexer": "ipython3",
   "version": "3.6.8"
  }
 },
 "nbformat": 4,
 "nbformat_minor": 2
}
