{
 "cells": [
  {
   "cell_type": "code",
   "execution_count": 2,
   "metadata": {},
   "outputs": [],
   "source": [
    "import numpy as np\n",
    "from matplotlib import pyplot as plt\n",
    "\n",
    "import tensorflow as tf\n",
    "tf.logging.set_verbosity(tf.logging.ERROR)\n",
    "\n",
    "from models import NDS2SAEFactory"
   ]
  },
  {
   "cell_type": "code",
   "execution_count": 3,
   "metadata": {},
   "outputs": [],
   "source": [
    "max_seq_len = 40\n",
    "min_seq_len = 20\n",
    "\n",
    "n_inputs = 2\n",
    "n_neurons = 100\n",
    "n_outputs = 1\n",
    "\n",
    "len_x = 1000\n",
    "x = np.linspace(0, 150, len_x)\n",
    "total_start_points = len_x - max_seq_len\n",
    "\n",
    "batch_count = 0\n",
    "variables = {'full_batch': 100, 'remain_batch_size': 100}\n",
    "\n",
    "\n",
    "def generate_samples(time):\n",
    "    x1 = 2 * np.sin(time)\n",
    "    x2 = 2 * np.cos(time)\n",
    "    return x1, x2\n",
    "\n",
    "\n",
    "def generate_train_samples(batch_size=10):\n",
    "    # Since we have an unlimited supply of dummy data, technically we can just return final_batch=True\n",
    "    # However to simulate the actual scenario, we fake having 100 examples and the last batch will return True\n",
    "    if batch_size is None:\n",
    "        batch_size = variables['full_batch']\n",
    "        final_batch = True\n",
    "    else:\n",
    "        if batch_size >= variables['remain_batch_size']:\n",
    "            batch_size = variables['remain_batch_size']\n",
    "            variables['remain_batch_size'] = variables['full_batch']\n",
    "            final_batch = True\n",
    "        else:\n",
    "            variables['remain_batch_size'] -= batch_size\n",
    "            final_batch = False\n",
    "\n",
    "    start_time_idx = np.random.choice(list(range(total_start_points)), batch_size)\n",
    "    sequence_lens = np.random.choice(list(range(min_seq_len, max_seq_len + 1)), batch_size).astype(np.int32)\n",
    "\n",
    "    time_axis = [x[t:(t + seq_len)] for t, seq_len in zip(start_time_idx, sequence_lens)]\n",
    "    input = []\n",
    "    output = []\n",
    "    for t in time_axis:\n",
    "        sin, cos = generate_samples(t)\n",
    "        input.append(np.array([sin, cos]).transpose(1, 0))\n",
    "        output.append(np.array([sin + cos]).transpose(1, 0))\n",
    "\n",
    "    return input, output, final_batch"
   ]
  },
  {
   "cell_type": "code",
   "execution_count": 11,
   "metadata": {},
   "outputs": [
    {
     "data": {
      "image/png": "[encoded data removed]",
      "text/plain": [
       "<Figure size 432x288 with 1 Axes>"
      ]
     },
     "metadata": {
      "needs_background": "light"
     },
     "output_type": "display_data"
    }
   ],
   "source": [
    "def show_sample():\n",
    "    test_seq, test_res, _ = generate_train_samples(batch_size=1)\n",
    "    seq_len = len(test_seq[0])\n",
    "\n",
    "    plt.title(\"\"\"Random input sequences (sin and cos) and \\ntrue output sequence (sum of sin and cos) (no padding yet)\"\"\")\n",
    "    i = plt.plot(range(seq_len), test_seq[0], 'o', label='true input sequence')\n",
    "    t = plt.plot(range(seq_len, seq_len + seq_len), test_res[0], 'co', alpha=0.6, label='true outputs')\n",
    "\n",
    "    plt.legend(handles=[i[0], t[0]], loc='upper left')\n",
    "    plt.show()\n",
    "\n",
    "show_sample()"
   ]
  },
  {
   "cell_type": "code",
   "execution_count": 4,
   "metadata": {},
   "outputs": [
    {
     "name": "stdout",
     "output_type": "stream",
     "text": [
      "Epoch   0/3000 - Loss: 21.558  - Validation loss:  3.473 - Learning rate: 0.0200000\n",
      "Epoch 100/3000 - Loss:  0.089  - Validation loss:  0.088 - Learning rate: 0.0155237\n",
      "Epoch 200/3000 - Loss:  0.075  - Validation loss:  0.095 - Learning rate: 0.0120493\n",
      "Epoch 300/3000 - Loss:  0.057  - Validation loss:  0.050 - Learning rate: 0.0093525\n",
      "Epoch 400/3000 - Loss:  0.026  - Validation loss:  0.032 - Learning rate: 0.0072593\n",
      "Epoch 500/3000 - Loss:  0.010  - Validation loss:  0.010 - Learning rate: 0.0056345\n",
      "Epoch 600/3000 - Loss:  0.005  - Validation loss:  0.011 - Learning rate: 0.0043734\n",
      "Epoch 700/3000 - Loss:  0.003  - Validation loss:  0.003 - Learning rate: 0.0033946\n",
      "Epoch 800/3000 - Loss:  0.002  - Validation loss:  0.002 - Learning rate: 0.0026348\n",
      "Epoch 900/3000 - Loss:  0.001  - Validation loss:  0.001 - Learning rate: 0.0020451\n",
      "Epoch 1000/3000 - Loss:  0.001  - Validation loss:  0.001 - Learning rate: 0.0015874\n",
      "Epoch 1100/3000 - Loss:  0.001  - Validation loss:  0.001 - Learning rate: 0.0012321\n",
      "Epoch 1200/3000 - Loss:  0.001  - Validation loss:  0.001 - Learning rate: 0.0009564\n",
      "Epoch 1300/3000 - Loss:  0.001  - Validation loss:  0.001 - Learning rate: 0.0007423\n",
      "Epoch 1400/3000 - Loss:  0.001  - Validation loss:  0.001 - Learning rate: 0.0005762\n",
      "Epoch 1500/3000 - Loss:  0.001  - Validation loss:  0.001 - Learning rate: 0.0004472\n",
      "Epoch 1600/3000 - Loss:  0.001  - Validation loss:  0.001 - Learning rate: 0.0003471\n",
      "Epoch 1700/3000 - Loss:  0.001  - Validation loss:  0.001 - Learning rate: 0.0002694\n",
      "Epoch 1800/3000 - Loss:  0.001  - Validation loss:  0.001 - Learning rate: 0.0002091\n",
      "Epoch 1900/3000 - Loss:  0.000  - Validation loss:  0.001 - Learning rate: 0.0001623\n",
      "Epoch 2000/3000 - Loss:  0.001  - Validation loss:  0.000 - Learning rate: 0.0001260\n",
      "Epoch 2100/3000 - Loss:  0.000  - Validation loss:  0.001 - Learning rate: 0.0000978\n",
      "Epoch 2200/3000 - Loss:  0.000  - Validation loss:  0.000 - Learning rate: 0.0000759\n",
      "Epoch 2300/3000 - Loss:  0.000  - Validation loss:  0.001 - Learning rate: 0.0000589\n",
      "Epoch 2400/3000 - Loss:  0.000  - Validation loss:  0.001 - Learning rate: 0.0000457\n",
      "Epoch 2500/3000 - Loss:  0.000  - Validation loss:  0.000 - Learning rate: 0.0000355\n",
      "Epoch 2600/3000 - Loss:  0.000  - Validation loss:  0.000 - Learning rate: 0.0000276\n",
      "Epoch 2700/3000 - Loss:  0.000  - Validation loss:  0.000 - Learning rate: 0.0000214\n",
      "Epoch 2800/3000 - Loss:  0.000  - Validation loss:  0.000 - Learning rate: 0.0000166\n",
      "Epoch 2900/3000 - Loss:  0.000  - Validation loss:  0.000 - Learning rate: 0.0000129\n",
      "Epoch 2999/3000 - Loss:  0.000  - Validation loss:  0.000 - Learning rate: 0.0000100\n"
     ]
    }
   ],
   "source": [
    "n_iterations = 3000\n",
    "\n",
    "factory = NDS2SAEFactory()\n",
    "factory.set_output('toy.zip')\n",
    "factory.lrtype = 'expdecay'\n",
    "factory.lrargs = dict(start_lr=0.02, finish_lr=0.00001, decay_steps=n_iterations)\n",
    "factory.input_dim = n_inputs\n",
    "factory.output_dim = n_outputs\n",
    "factory.layer_sizes = [50, 30]\n",
    "encoder = factory.build()\n",
    "\n",
    "# If toy.zip exists, the encoder will continue the training\n",
    "# Otherwise it'll train a new model and save to toy.zip every {display_step}\n",
    "encoder.train(generate_train_samples, \n",
    "              generate_train_samples, # Validation samples are generated in the same was as training samples\n",
    "              n_iterations=n_iterations, \n",
    "              batch_size=50, \n",
    "              display_step=100,\n",
    "              save_step=200\n",
    "             )"
   ]
  },
  {
   "cell_type": "code",
   "execution_count": 6,
   "metadata": {},
   "outputs": [
    {
     "data": {
      "image/png": "[encoded data removed]",
      "text/plain": [
       "<Figure size 432x288 with 1 Axes>"
      ]
     },
     "metadata": {
      "needs_background": "light"
     },
     "output_type": "display_data"
    }
   ],
   "source": [
    "def show_test():\n",
    "    test_seq, test_res, _ = generate_train_samples(batch_size=50)\n",
    "    predicted = encoder.predict(test_seq)\n",
    "\n",
    "    seq_len = len(test_seq[0])\n",
    "    pre_len = len(predicted[0])\n",
    "\n",
    "    plt.title(\"\"\"Input sequence, predicted and true output sequences\n",
    "    The red dots near 0 of the predicted sequence signify the End Of Sequence\"\"\")\n",
    "    i = plt.plot(range(seq_len), test_seq[0], 'o', label='true input sequence')\n",
    "    p = plt.plot(range(seq_len, seq_len + pre_len), predicted[0], 'ro', label='predicted outputs')\n",
    "    t = plt.plot(range(seq_len, seq_len + seq_len), test_res[0], 'co', alpha=0.6, label='true outputs')\n",
    "    plt.legend(handles=[i[0], p[0], t[0]], loc='upper left')\n",
    "    plt.show()\n",
    "\n",
    "# Run this to use the trained autoencoder to encode and decode a randomly generated sequence\n",
    "# And display them\n",
    "show_test()"
   ]
  },
  {
   "cell_type": "code",
   "execution_count": 7,
   "metadata": {},
   "outputs": [
    {
     "name": "stdout",
     "output_type": "stream",
     "text": [
      "[[6.1327887e-01 3.0959178e-02 7.8811188e-04 8.9281460e-19 1.4577006e-13\n",
      "  1.7883739e-01 0.0000000e+00 0.0000000e+00 2.1593392e-01 7.7278189e-02\n",
      "  1.9580168e-01 5.2883631e-01 1.4626450e-04 0.0000000e+00 1.5987942e-12\n",
      "  0.0000000e+00 1.4888297e+00 0.0000000e+00 1.6007178e-10 0.0000000e+00\n",
      "  5.1477516e-01 6.6292828e-01 6.8860820e-05 0.0000000e+00 9.1949970e-02\n",
      "  0.0000000e+00 6.7564970e-10 4.9262691e-01 1.5913693e-02 5.0580728e-01]]\n",
      "Cleaned up temp folder /tmp/NDS2SAE-6c81736c18964a3d8624e646758eed2a\n"
     ]
    }
   ],
   "source": [
    "def run_encode():\n",
    "    init = tf.global_variables_initializer()\n",
    "    session = tf.Session()\n",
    "    session.run(init)\n",
    "\n",
    "    test_seq, test_res, _ = generate_train_samples(batch_size=1)\n",
    "    \n",
    "    # If the hidden structure has more than 1 layers, set kernel_only to True to use only the last layer for encoding\n",
    "    # otherwise all layers will be used and the result is a concatenation of all layers' states\n",
    "    encoded = encoder.encode(test_seq, session, kernel_only=True)\n",
    "    session.close()\n",
    "    print(encoded)\n",
    "\n",
    "# This will print out the encoded (hidden layers) value\n",
    "run_encode()\n",
    "\n",
    "encoder.cleanup()"
   ]
  },
  {
   "cell_type": "code",
   "execution_count": null,
   "metadata": {},
   "outputs": [],
   "source": [
    ""
   ]
  }
 ],
 "metadata": {
  "kernelspec": {
   "display_name": "Python 3",
   "language": "python",
   "name": "python3"
  },
  "language_info": {
   "codemirror_mode": {
    "name": "ipython",
    "version": 3.0
   },
   "file_extension": ".py",
   "mimetype": "text/x-python",
   "name": "python",
   "nbconvert_exporter": "python",
   "pygments_lexer": "ipython3",
   "version": "3.6.8"
  }
 },
 "nbformat": 4,
 "nbformat_minor": 0
}